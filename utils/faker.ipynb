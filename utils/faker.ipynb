{
 "cells": [
  {
   "cell_type": "markdown",
   "source": [
    "[![View on GitHub](https://img.shields.io/badge/GitHub-View_on_GitHub-blue?logo=GitHub)](https://github.com/khuyentran1401/Data-science/blob/master/data_science_tools/faker.ipynb)\n",
    "\n",
    "[<img src=\"https://deepnote.com/buttons/launch-in-deepnote.svg\">](https://deepnote.com/project/Data-science-hxlyJpi-QrKFJziQgoMSmQ/%2FData-science%2Fdata_science_tools%2Ffaker.ipynb)\n",
    "\n",
    " [![View Article](https://img.shields.io/badge/View%20Article-View%20Full%20Article-red)](https://towardsdatascience.com/how-to-create-fake-data-with-faker-a835e5b7a9d9)"
   ],
   "metadata": {
    "tags": [],
    "cell_id": "00000-682e3dfa-5c8d-422c-a993-5ba255b5985b",
    "deepnote_cell_type": "markdown"
   }
  },
  {
   "cell_type": "code",
   "metadata": {
    "ExecuteTime": {
     "end_time": "2020-07-31T17:29:16.041864Z",
     "start_time": "2020-07-31T17:29:13.387104Z"
    },
    "cell_id": "00001-1d8f3950-0ad5-4cdf-b2e4-5090a8e94836",
    "output_cleared": true,
    "deepnote_to_be_reexecuted": false,
    "source_hash": "f42db513",
    "execution_start": 1634040013194,
    "execution_millis": 6788,
    "deepnote_cell_type": "code"
   },
   "source": [
    "!pip install Faker==4.1.1"
   ],
   "outputs": [],
   "execution_count": null
  },
  {
   "cell_type": "markdown",
   "source": [
    "# Faker"
   ],
   "metadata": {
    "cell_id": "00000-12629b01-8d07-4ff3-a38f-fd7f0adf29b8",
    "deepnote_cell_type": "markdown"
   }
  },
  {
   "cell_type": "code",
   "metadata": {
    "ExecuteTime": {
     "end_time": "2020-08-15T20:28:33.088095Z",
     "start_time": "2020-08-15T20:28:32.930653Z"
    },
    "cell_id": "00002-21a68a0d-8e69-48ff-8a92-595284b80bbc",
    "deepnote_to_be_reexecuted": false,
    "source_hash": "b3c3f041",
    "execution_start": 1634040135239,
    "execution_millis": 128,
    "deepnote_cell_type": "code"
   },
   "source": [
    "from faker import Faker"
   ],
   "outputs": [],
   "execution_count": null
  },
  {
   "cell_type": "code",
   "metadata": {
    "ExecuteTime": {
     "end_time": "2020-08-15T20:28:33.752847Z",
     "start_time": "2020-08-15T20:28:33.665772Z"
    },
    "cell_id": "00003-a7630417-ba85-4b60-8d3d-6c36a2704bf7",
    "deepnote_to_be_reexecuted": false,
    "source_hash": "b32bc568",
    "execution_start": 1634040135761,
    "execution_millis": 29,
    "deepnote_cell_type": "code"
   },
   "source": [
    "fake = Faker()"
   ],
   "outputs": [],
   "execution_count": null
  },
  {
   "cell_type": "markdown",
   "source": [
    "# Basic methods"
   ],
   "metadata": {
    "cell_id": "00004-2f21581f-b6c6-49db-98d3-c2c39455e117",
    "deepnote_cell_type": "markdown"
   }
  },
  {
   "cell_type": "code",
   "metadata": {
    "ExecuteTime": {
     "end_time": "2020-08-15T20:28:35.016790Z",
     "start_time": "2020-08-15T20:28:34.990699Z"
    },
    "cell_id": "00005-29055bf5-e27a-4ff4-96da-9c5883151f50",
    "deepnote_cell_type": "code"
   },
   "source": [
    "fake.color_name()"
   ],
   "outputs": [
    {
     "data": {
      "text/plain": "'DarkOrchid'"
     },
     "execution_count": 3,
     "metadata": {},
     "output_type": "execute_result"
    }
   ],
   "execution_count": null
  },
  {
   "cell_type": "code",
   "metadata": {
    "ExecuteTime": {
     "end_time": "2020-08-15T20:28:35.629398Z",
     "start_time": "2020-08-15T20:28:35.618552Z"
    },
    "cell_id": "00006-e5d425e1-10e7-498b-91be-c50bfa8fa590",
    "deepnote_cell_type": "code"
   },
   "source": [
    "fake.name()"
   ],
   "outputs": [
    {
     "data": {
      "text/plain": "'Crystal Smith'"
     },
     "execution_count": 4,
     "metadata": {},
     "output_type": "execute_result"
    }
   ],
   "execution_count": null
  },
  {
   "cell_type": "code",
   "metadata": {
    "ExecuteTime": {
     "end_time": "2020-08-15T20:28:36.152075Z",
     "start_time": "2020-08-15T20:28:36.140339Z"
    },
    "cell_id": "00007-acc4cb3e-3ca1-46f9-b2b9-95705e23456e",
    "deepnote_cell_type": "code"
   },
   "source": [
    "fake.address()"
   ],
   "outputs": [
    {
     "data": {
      "text/plain": "'PSC 6545, Box 9911\\nAPO AP 89831'"
     },
     "execution_count": 5,
     "metadata": {},
     "output_type": "execute_result"
    }
   ],
   "execution_count": null
  },
  {
   "cell_type": "code",
   "metadata": {
    "ExecuteTime": {
     "end_time": "2020-08-15T20:28:37.609262Z",
     "start_time": "2020-08-15T20:28:37.598899Z"
    },
    "cell_id": "00008-0cc03d5a-615b-4caf-82e8-9c52da8db027",
    "deepnote_cell_type": "code"
   },
   "source": [
    "fake.job()"
   ],
   "outputs": [
    {
     "data": {
      "text/plain": "'Haematologist'"
     },
     "execution_count": 6,
     "metadata": {},
     "output_type": "execute_result"
    }
   ],
   "execution_count": null
  },
  {
   "cell_type": "code",
   "metadata": {
    "ExecuteTime": {
     "end_time": "2020-08-15T20:28:38.184035Z",
     "start_time": "2020-08-15T20:28:38.174111Z"
    },
    "cell_id": "00009-e2a5342b-3fbe-407c-9b5f-46a58cb73ead",
    "deepnote_cell_type": "code"
   },
   "source": [
    "fake.date_of_birth(minimum_age=30)"
   ],
   "outputs": [
    {
     "data": {
      "text/plain": "date(1918, 5, 24)"
     },
     "execution_count": 7,
     "metadata": {},
     "output_type": "execute_result"
    }
   ],
   "execution_count": null
  },
  {
   "cell_type": "code",
   "metadata": {
    "ExecuteTime": {
     "end_time": "2020-08-15T20:28:38.737052Z",
     "start_time": "2020-08-15T20:28:38.727004Z"
    },
    "cell_id": "00010-0ad523e4-8fb2-4f5a-8fad-22a551911a75",
    "deepnote_cell_type": "code"
   },
   "source": [
    "fake.city()"
   ],
   "outputs": [
    {
     "data": {
      "text/plain": "'Michaelberg'"
     },
     "execution_count": 8,
     "metadata": {},
     "output_type": "execute_result"
    }
   ],
   "execution_count": null
  },
  {
   "cell_type": "code",
   "metadata": {
    "ExecuteTime": {
     "end_time": "2020-08-15T20:28:39.299936Z",
     "start_time": "2020-08-15T20:28:39.286754Z"
    },
    "cell_id": "00011-0a84e1b6-91b4-4883-b94c-07b3a63fa918",
    "deepnote_cell_type": "code"
   },
   "source": [
    "name = fake.name()\n",
    "\n",
    "color = fake.color_name()\n",
    "\n",
    "city = fake.city()\n",
    "\n",
    "job = fake.job()\n",
    "\n",
    "print('Her name is {}. She lives in {}. Her favorite color is {}. She works as a {}'.format(name, city,color, job))"
   ],
   "outputs": [
    {
     "name": "stdout",
     "output_type": "stream",
     "text": "Her name is John Jackson. She lives in Esparzashire. Her favorite color is DimGray. She works as a Electrical engineer\n"
    }
   ],
   "execution_count": null
  },
  {
   "cell_type": "markdown",
   "source": [
    "# Specific Location"
   ],
   "metadata": {
    "cell_id": "00012-d648b1f0-0708-406f-87a8-5e37c7e2ed1a",
    "deepnote_cell_type": "markdown"
   }
  },
  {
   "cell_type": "markdown",
   "source": [
    "## One Location"
   ],
   "metadata": {
    "cell_id": "00013-be25f782-bb67-4cd4-99bc-a143c9f28e6e",
    "deepnote_cell_type": "markdown"
   }
  },
  {
   "cell_type": "code",
   "metadata": {
    "ExecuteTime": {
     "end_time": "2020-08-15T20:28:42.115525Z",
     "start_time": "2020-08-15T20:28:42.028825Z"
    },
    "scrolled": true,
    "cell_id": "00014-39d82ed3-bb10-453f-84f4-bd2a9530d96c",
    "deepnote_cell_type": "code"
   },
   "source": [
    "fake = Faker('it_IT')\n",
    "\n",
    "for _ in range(10):\n",
    "    print(fake.name())"
   ],
   "outputs": [
    {
     "name": "stdout",
     "output_type": "stream",
     "text": "Pier Semitecolo-Pezzali\nAntonina Sauro \nMaria Marinetti\nElisa Bodoni\nDott. Vincenza Perozzo\nDott. Annalisa Flaiano \nSig. Temistocle Gullotta\nMassimiliano Volta\nValeria Manzoni\nIda Faugno\n"
    }
   ],
   "execution_count": null
  },
  {
   "cell_type": "markdown",
   "source": [
    "## Multiple Locations"
   ],
   "metadata": {
    "cell_id": "00015-220bc756-7e9d-4995-9f39-aed5b5c92a0a",
    "deepnote_cell_type": "markdown"
   }
  },
  {
   "cell_type": "code",
   "metadata": {
    "ExecuteTime": {
     "end_time": "2020-08-15T20:28:45.082672Z",
     "start_time": "2020-08-15T20:28:44.742329Z"
    },
    "cell_id": "00016-9a7e66f1-68cd-4084-9771-57bf8419c40a",
    "deepnote_cell_type": "code"
   },
   "source": [
    "fake = Faker(['ja_JP','zh_CN','es_ES','en_US','fr_FR'])\n",
    "\n",
    "for _ in range(10):\n",
    "    print(fake.city())"
   ],
   "outputs": [
    {
     "name": "stdout",
     "output_type": "stream",
     "text": "Málaga\n三宅島三宅村\nSegovia\nBouvierBourg\nÁvila\nGrondin-sur-Valentin\nMillerborough\nRenaudnec\n潮州市\nTeruel\n"
    }
   ],
   "execution_count": null
  },
  {
   "cell_type": "markdown",
   "source": [
    "# Create text"
   ],
   "metadata": {
    "cell_id": "00017-355d944c-5a34-44e4-82fc-5bce7e257d58",
    "deepnote_cell_type": "markdown"
   }
  },
  {
   "cell_type": "code",
   "metadata": {
    "ExecuteTime": {
     "end_time": "2020-07-31T17:33:20.258481Z",
     "start_time": "2020-07-31T17:33:20.251565Z"
    },
    "cell_id": "00018-47ed781a-97e1-4a93-bc18-ab536936b457",
    "deepnote_cell_type": "code"
   },
   "source": [
    "fake.text()"
   ],
   "outputs": [
    {
     "data": {
      "text/plain": "'在线地址直接特别一定或者语言.要求这个过程留言软件威望.密码图片非常只是只是音乐结果.\\n直接报告这些单位需要程序.\\n文章必须全国关于显示.还是运行上海推荐是否开发主题.\\n其他全部这种.在线图片解决的话因此行业对于.\\n介绍必须控制次数不过经济.\\n公司免费程序规定不同.大学下载推荐当前.\\n这样设备今年有些我的怎么只是.最后地址只是.程序一起汽车发布直接点击一定.'"
     },
     "execution_count": 18,
     "metadata": {},
     "output_type": "execute_result"
    }
   ],
   "execution_count": null
  },
  {
   "cell_type": "markdown",
   "source": [
    "## Text from a Specific language"
   ],
   "metadata": {
    "cell_id": "00019-066aff40-d876-4df1-a839-0c89be8f23c6",
    "deepnote_cell_type": "markdown"
   }
  },
  {
   "cell_type": "code",
   "metadata": {
    "ExecuteTime": {
     "end_time": "2020-07-31T17:33:38.929576Z",
     "start_time": "2020-07-31T17:33:38.915031Z"
    },
    "cell_id": "00020-cb479c57-57a2-45dc-84c0-70b2a77952c2",
    "deepnote_cell_type": "code"
   },
   "source": [
    "# Japanese\n",
    "fake = Faker('ja_JP')\n",
    "fake.text() "
   ],
   "outputs": [
    {
     "data": {
      "text/plain": "'ソース中世賞賛するブラケット屋根裏管理する意図。屋根裏ブレーキ鉱山コミュニケーションブラケット。バケツハンマーシェービング省略脊椎花嫁。\\n職人倫理コンペ部隊。風景敵対的な午前近代化する助けて〜。敵対的な動物中央尿行進創傷。\\n戦略的クルートーンあなた自身コーナーストレージ。プラスチックプラスチック管理する主婦。日曜日特徴協力〜感謝する画面欠乏血まみれの。'"
     },
     "execution_count": 19,
     "metadata": {},
     "output_type": "execute_result"
    }
   ],
   "execution_count": null
  },
  {
   "cell_type": "markdown",
   "source": [
    "## Text from Selected Words"
   ],
   "metadata": {
    "cell_id": "00021-3fbd019d-2f02-4e63-be0a-e98917f53b0f",
    "deepnote_cell_type": "markdown"
   }
  },
  {
   "cell_type": "code",
   "metadata": {
    "ExecuteTime": {
     "end_time": "2020-07-31T17:34:21.318551Z",
     "start_time": "2020-07-31T17:34:21.300044Z"
    },
    "cell_id": "00022-036dcca9-c90e-4b8b-b42f-236a753c532a",
    "deepnote_cell_type": "code"
   },
   "source": [
    "fake = Faker()\n",
    "my_information = [\n",
    "'dog','swimming', '21', 'slow', 'girl', 'coffee', 'flower','pink']\n",
    "fake.sentence(ext_word_list=my_information)"
   ],
   "outputs": [
    {
     "data": {
      "text/plain": "'Dog girl flower slow.'"
     },
     "execution_count": 20,
     "metadata": {},
     "output_type": "execute_result"
    }
   ],
   "execution_count": null
  },
  {
   "cell_type": "code",
   "metadata": {
    "ExecuteTime": {
     "end_time": "2020-07-31T17:34:50.630657Z",
     "start_time": "2020-07-31T17:34:50.627569Z"
    },
    "cell_id": "00023-c8e5df54-e63d-446a-bc2a-bb1f20579fe3",
    "deepnote_cell_type": "code"
   },
   "source": [
    "fake.sentence(ext_word_list=my_information)"
   ],
   "outputs": [
    {
     "data": {
      "text/plain": "'Pink slow girl 21 flower coffee girl 21.'"
     },
     "execution_count": 21,
     "metadata": {},
     "output_type": "execute_result"
    }
   ],
   "execution_count": null
  },
  {
   "cell_type": "markdown",
   "source": [
    "# Create a Quick Profile Data"
   ],
   "metadata": {
    "cell_id": "00024-b24d5fc4-0a68-49f0-977e-097f9b9a646c",
    "deepnote_cell_type": "markdown"
   }
  },
  {
   "cell_type": "markdown",
   "source": [
    "## Random"
   ],
   "metadata": {
    "cell_id": "00025-0d68b396-6c2b-4db2-9e34-7067301fc4bf",
    "deepnote_cell_type": "markdown"
   }
  },
  {
   "cell_type": "code",
   "metadata": {
    "ExecuteTime": {
     "end_time": "2020-07-31T17:35:12.079974Z",
     "start_time": "2020-07-31T17:35:12.063514Z"
    },
    "cell_id": "00026-75e0be88-b5ef-4f42-8479-33e77dd8cf58",
    "deepnote_cell_type": "code"
   },
   "source": [
    "fake = Faker()\n",
    "fake.profile()"
   ],
   "outputs": [
    {
     "data": {
      "text/plain": "{'job': 'Curator',\n 'company': 'Boyd Group',\n 'ssn': '705-20-0779',\n 'residence': '601 Ryan Valley Suite 664\\nNorth Brianfort, MI 94350',\n 'current_location': (Decimal('62.942073'), Decimal('-133.148192')),\n 'blood_group': 'B+',\n 'website': ['http://johnson.info/', 'https://elliott-clements.com/'],\n 'username': 'gilbertstephanie',\n 'name': 'David Zuniga',\n 'sex': 'M',\n 'address': '34304 Baldwin Knolls Suite 653\\nShawnmouth, NC 14708',\n 'mail': 'ashley99@gmail.com',\n 'birthdate': date(1960, 11, 19)}"
     },
     "execution_count": 22,
     "metadata": {},
     "output_type": "execute_result"
    }
   ],
   "execution_count": null
  },
  {
   "cell_type": "code",
   "metadata": {
    "ExecuteTime": {
     "end_time": "2020-08-15T20:28:51.354410Z",
     "start_time": "2020-08-15T20:28:49.807179Z"
    },
    "cell_id": "00027-80d50f6d-8fa2-40fc-bee6-5540f1360f8d",
    "deepnote_cell_type": "code"
   },
   "source": [
    "import pandas as pd\n",
    "\n",
    "fake = Faker(['it_IT','ja_JP', 'zh_CN', 'de_DE','en_US'])\n",
    "profiles = [fake.profile() for i in range(100)]\n",
    "df = pd.DataFrame(profiles).head()\n",
    "df = df.drop('website', axis=1)"
   ],
   "outputs": [],
   "execution_count": null
  },
  {
   "cell_type": "code",
   "metadata": {
    "ExecuteTime": {
     "end_time": "2020-08-15T20:30:13.823671Z",
     "start_time": "2020-08-15T20:30:13.782149Z"
    },
    "cell_style": "split",
    "cell_id": "00028-60f29d99-f14a-4ca8-a287-ec64f78e4944",
    "deepnote_cell_type": "code"
   },
   "source": [
    "df2"
   ],
   "outputs": [
    {
     "data": {
      "text/html": "<div>\n<style scoped>\n    .dataframe tbody tr th:only-of-type {\n        vertical-align: middle;\n    }\n\n    .dataframe tbody tr th {\n        vertical-align: top;\n    }\n\n    .dataframe thead th {\n        text-align: right;\n    }\n</style>\n<table border=\"1\" class=\"dataframe\">\n  <thead>\n    <tr style=\"text-align: right;\">\n      <th></th>\n      <th>0</th>\n      <th>1</th>\n      <th>2</th>\n      <th>3</th>\n      <th>4</th>\n      <th>5</th>\n      <th>6</th>\n      <th>7</th>\n      <th>8</th>\n      <th>9</th>\n    </tr>\n  </thead>\n  <tbody>\n    <tr>\n      <th>name</th>\n      <td>Steven Perez</td>\n      <td>Nathan Alexander</td>\n      <td>David Thomas</td>\n      <td>Brad Smith</td>\n      <td>Rebecca Zimmerman</td>\n      <td>Michael Castillo</td>\n      <td>Lori Wise</td>\n      <td>Victoria Klein</td>\n      <td>Lisa Sanchez</td>\n      <td>Courtney Morris</td>\n    </tr>\n    <tr>\n      <th>address</th>\n      <td>13324 Wilson Via Suite 447\\nMillerfurt, IA 68071</td>\n      <td>365 Warren Lane Apt. 824\\nEast Mark, OR 89165</td>\n      <td>99851 Elizabeth Point\\nSouth David, FL 11561</td>\n      <td>24174 Young Village\\nWest Kevin, AL 94944</td>\n      <td>4481 Amy Park Apt. 259\\nNew Danashire, LA 76490</td>\n      <td>242 Shepherd Summit Apt. 175\\nWest Paul, FL 75243</td>\n      <td>756 Murray Fields Apt. 208\\nEricaton, ND 79036</td>\n      <td>047 Rodriguez Radial Apt. 726\\nHolmesfurt, NM ...</td>\n      <td>31791 Little Fall\\nJosebury, NY 81351</td>\n      <td>843 Kim Rapids\\nPort Michelle, IN 66646</td>\n    </tr>\n    <tr>\n      <th>city</th>\n      <td>Williamsburgh</td>\n      <td>Dunnland</td>\n      <td>West Erika</td>\n      <td>South Nicolechester</td>\n      <td>Sierraland</td>\n      <td>New Bettychester</td>\n      <td>North Samuel</td>\n      <td>Suzanneborough</td>\n      <td>Lake Caitlinland</td>\n      <td>Lewisbury</td>\n    </tr>\n    <tr>\n      <th>color</th>\n      <td>#ef6988</td>\n      <td>#1c2ded</td>\n      <td>#0ab2d3</td>\n      <td>#f75ded</td>\n      <td>#edd042</td>\n      <td>#eef282</td>\n      <td>#e5b88b</td>\n      <td>#a363e2</td>\n      <td>#6fc617</td>\n      <td>#85e2d1</td>\n    </tr>\n    <tr>\n      <th>closeness (1-5)</th>\n      <td>0</td>\n      <td>3</td>\n      <td>2</td>\n      <td>3</td>\n      <td>0</td>\n      <td>3</td>\n      <td>2</td>\n      <td>4</td>\n      <td>0</td>\n      <td>3</td>\n    </tr>\n  </tbody>\n</table>\n</div>",
      "text/plain": "                                                                0  \\\nname                                                 Steven Perez   \naddress          13324 Wilson Via Suite 447\\nMillerfurt, IA 68071   \ncity                                                Williamsburgh   \ncolor                                                     #ef6988   \ncloseness (1-5)                                                 0   \n\n                                                             1  \\\nname                                          Nathan Alexander   \naddress          365 Warren Lane Apt. 824\\nEast Mark, OR 89165   \ncity                                                  Dunnland   \ncolor                                                  #1c2ded   \ncloseness (1-5)                                              3   \n\n                                                            2  \\\nname                                             David Thomas   \naddress          99851 Elizabeth Point\\nSouth David, FL 11561   \ncity                                               West Erika   \ncolor                                                 #0ab2d3   \ncloseness (1-5)                                             2   \n\n                                                         3  \\\nname                                            Brad Smith   \naddress          24174 Young Village\\nWest Kevin, AL 94944   \ncity                                   South Nicolechester   \ncolor                                              #f75ded   \ncloseness (1-5)                                          3   \n\n                                                               4  \\\nname                                           Rebecca Zimmerman   \naddress          4481 Amy Park Apt. 259\\nNew Danashire, LA 76490   \ncity                                                  Sierraland   \ncolor                                                    #edd042   \ncloseness (1-5)                                                0   \n\n                                                                 5  \\\nname                                              Michael Castillo   \naddress          242 Shepherd Summit Apt. 175\\nWest Paul, FL 75243   \ncity                                              New Bettychester   \ncolor                                                      #eef282   \ncloseness (1-5)                                                  3   \n\n                                                              6  \\\nname                                                  Lori Wise   \naddress          756 Murray Fields Apt. 208\\nEricaton, ND 79036   \ncity                                               North Samuel   \ncolor                                                   #e5b88b   \ncloseness (1-5)                                               2   \n\n                                                                 7  \\\nname                                                Victoria Klein   \naddress          047 Rodriguez Radial Apt. 726\\nHolmesfurt, NM ...   \ncity                                                Suzanneborough   \ncolor                                                      #a363e2   \ncloseness (1-5)                                                  4   \n\n                                                     8  \\\nname                                      Lisa Sanchez   \naddress          31791 Little Fall\\nJosebury, NY 81351   \ncity                                  Lake Caitlinland   \ncolor                                          #6fc617   \ncloseness (1-5)                                      0   \n\n                                                       9  \nname                                     Courtney Morris  \naddress          843 Kim Rapids\\nPort Michelle, IN 66646  \ncity                                           Lewisbury  \ncolor                                            #85e2d1  \ncloseness (1-5)                                        3  "
     },
     "execution_count": 17,
     "metadata": {},
     "output_type": "execute_result"
    }
   ],
   "execution_count": null
  },
  {
   "cell_type": "code",
   "metadata": {
    "ExecuteTime": {
     "end_time": "2020-08-15T20:28:51.431146Z",
     "start_time": "2020-08-15T20:28:51.358710Z"
    },
    "cell_style": "split",
    "scrolled": true,
    "cell_id": "00029-b1eb31e5-6381-4490-9485-a24b90ccf022",
    "deepnote_cell_type": "code"
   },
   "source": [
    "df "
   ],
   "outputs": [
    {
     "data": {
      "text/html": "<div>\n<style scoped>\n    .dataframe tbody tr th:only-of-type {\n        vertical-align: middle;\n    }\n\n    .dataframe tbody tr th {\n        vertical-align: top;\n    }\n\n    .dataframe thead th {\n        text-align: right;\n    }\n</style>\n<table border=\"1\" class=\"dataframe\">\n  <thead>\n    <tr style=\"text-align: right;\">\n      <th></th>\n      <th>job</th>\n      <th>company</th>\n      <th>ssn</th>\n      <th>residence</th>\n      <th>current_location</th>\n      <th>blood_group</th>\n      <th>username</th>\n      <th>name</th>\n      <th>sex</th>\n      <th>address</th>\n      <th>mail</th>\n      <th>birthdate</th>\n    </tr>\n  </thead>\n  <tbody>\n    <tr>\n      <th>0</th>\n      <td>房地产项目/策划经理</td>\n      <td>信诚致远网络有限公司</td>\n      <td>621124196906077769</td>\n      <td>江苏省张家港市黄浦台北街o座 892046</td>\n      <td>(-13.255058, 15.965848)</td>\n      <td>AB+</td>\n      <td>yan37</td>\n      <td>王志强</td>\n      <td>F</td>\n      <td>青海省巢湖市东丽西安路r座 755793</td>\n      <td>kcheng@yahoo.com</td>\n      <td>1928-09-20</td>\n    </tr>\n    <tr>\n      <th>1</th>\n      <td>Mechaniker</td>\n      <td>Walter</td>\n      <td>123-29-5012</td>\n      <td>Karl-Hans-Jäntsch-Platz 57\\n36323 Eberswalde</td>\n      <td>(-62.638068, 158.236329)</td>\n      <td>O-</td>\n      <td>zzorbach</td>\n      <td>Anatol Roht B.A.</td>\n      <td>M</td>\n      <td>Hartmannstr. 7/3\\n62558 Königs Wusterhausen</td>\n      <td>detlevplath@gmx.de</td>\n      <td>2016-03-04</td>\n    </tr>\n    <tr>\n      <th>2</th>\n      <td>Contracting civil engineer</td>\n      <td>Bowman, Rodriguez and Juarez</td>\n      <td>232-42-5281</td>\n      <td>4659 Mary Via\\nAnthonychester, AK 36074</td>\n      <td>(38.057548, 1.035197)</td>\n      <td>B+</td>\n      <td>ddiaz</td>\n      <td>John Barnett</td>\n      <td>M</td>\n      <td>1105 Cody Spur\\nPhillipside, AL 49217</td>\n      <td>deankathleen@hotmail.com</td>\n      <td>1995-12-13</td>\n    </tr>\n    <tr>\n      <th>3</th>\n      <td>Producer, television/film/video</td>\n      <td>Soderini e figli</td>\n      <td>BLGJSN33Z50L049G</td>\n      <td>Vicolo Amadeo 14 Appartamento 07\\nQuarto Bianc...</td>\n      <td>(3.2574445, -69.269572)</td>\n      <td>B+</td>\n      <td>xlamborghini</td>\n      <td>Mattia Zoppetto</td>\n      <td>M</td>\n      <td>Incrocio Simeoni 523\\nSettimo Baccio, 18160 Av...</td>\n      <td>adamocalvo@libero.it</td>\n      <td>1905-05-13</td>\n    </tr>\n    <tr>\n      <th>4</th>\n      <td>演歌歌手</td>\n      <td>株式会社藤本銀行</td>\n      <td>820-58-2585</td>\n      <td>静岡県山武市南赤田30丁目9番12号 コーポ湯本塩原658</td>\n      <td>(1.347205, -99.379761)</td>\n      <td>AB+</td>\n      <td>hiroshi29</td>\n      <td>松本 充</td>\n      <td>M</td>\n      <td>宮崎県香取郡東庄町高輪30丁目3番16号 コート花川戸811</td>\n      <td>xharada@hotmail.com</td>\n      <td>1955-04-11</td>\n    </tr>\n  </tbody>\n</table>\n</div>",
      "text/plain": "                               job                       company  \\\n0                       房地产项目/策划经理                    信诚致远网络有限公司   \n1                       Mechaniker                        Walter   \n2       Contracting civil engineer  Bowman, Rodriguez and Juarez   \n3  Producer, television/film/video              Soderini e figli   \n4                             演歌歌手                      株式会社藤本銀行   \n\n                  ssn                                          residence  \\\n0  621124196906077769                              江苏省张家港市黄浦台北街o座 892046   \n1         123-29-5012       Karl-Hans-Jäntsch-Platz 57\\n36323 Eberswalde   \n2         232-42-5281            4659 Mary Via\\nAnthonychester, AK 36074   \n3    BLGJSN33Z50L049G  Vicolo Amadeo 14 Appartamento 07\\nQuarto Bianc...   \n4         820-58-2585                      静岡県山武市南赤田30丁目9番12号 コーポ湯本塩原658   \n\n           current_location blood_group      username              name sex  \\\n0   (-13.255058, 15.965848)         AB+         yan37               王志强   F   \n1  (-62.638068, 158.236329)          O-      zzorbach  Anatol Roht B.A.   M   \n2     (38.057548, 1.035197)          B+         ddiaz      John Barnett   M   \n3   (3.2574445, -69.269572)          B+  xlamborghini   Mattia Zoppetto   M   \n4    (1.347205, -99.379761)         AB+     hiroshi29              松本 充   M   \n\n                                             address  \\\n0                               青海省巢湖市东丽西安路r座 755793   \n1        Hartmannstr. 7/3\\n62558 Königs Wusterhausen   \n2              1105 Cody Spur\\nPhillipside, AL 49217   \n3  Incrocio Simeoni 523\\nSettimo Baccio, 18160 Av...   \n4                     宮崎県香取郡東庄町高輪30丁目3番16号 コート花川戸811   \n\n                       mail   birthdate  \n0          kcheng@yahoo.com  1928-09-20  \n1        detlevplath@gmx.de  2016-03-04  \n2  deankathleen@hotmail.com  1995-12-13  \n3      adamocalvo@libero.it  1905-05-13  \n4       xharada@hotmail.com  1955-04-11  "
     },
     "execution_count": 13,
     "metadata": {},
     "output_type": "execute_result"
    }
   ],
   "execution_count": null
  },
  {
   "cell_type": "code",
   "metadata": {
    "ExecuteTime": {
     "end_time": "2020-08-15T20:30:10.234095Z",
     "start_time": "2020-08-15T20:30:10.125431Z"
    },
    "cell_style": "center",
    "scrolled": true,
    "cell_id": "00030-39fff9e7-92e9-4ae3-8c28-62813ebdcaf1",
    "deepnote_cell_type": "code"
   },
   "source": [
    "from faker import Faker \n",
    "import json            # To create a json file                 \n",
    "import numpy as np\n",
    "fake = Faker() \n",
    "def create_data(x): \n",
    "  \n",
    "    # dictionary \n",
    "    friends_data ={} \n",
    "    for i in range(0, x): \n",
    "        friends_data[i]={} \n",
    "        friends_data[i]['name']= fake.name() \n",
    "        friends_data[i]['address']= fake.address() \n",
    "        friends_data[i]['city']= fake.city() \n",
    "        friends_data[i]['color']= fake.color()\n",
    "        friends_data[i]['closeness (1-5)'] = np.random.randint(0,5)\n",
    "    \n",
    "    return friends_data\n",
    "    \n",
    "friends = create_data(10)\n",
    "df2 = pd.DataFrame.from_dict(friends) "
   ],
   "outputs": [],
   "execution_count": null
  },
  {
   "cell_type": "markdown",
   "source": [
    "## Customize Profile"
   ],
   "metadata": {
    "cell_id": "00031-9382109b-5e25-40e6-866f-08781944de4a",
    "deepnote_cell_type": "markdown"
   }
  },
  {
   "cell_type": "markdown",
   "source": [
    "# Python Datatypes"
   ],
   "metadata": {
    "cell_id": "00032-20dd3632-e503-4be8-b690-c788bad05207",
    "deepnote_cell_type": "markdown"
   }
  },
  {
   "cell_type": "code",
   "metadata": {
    "ExecuteTime": {
     "end_time": "2020-07-31T17:36:34.378904Z",
     "start_time": "2020-07-31T17:36:34.366647Z"
    },
    "cell_id": "00033-4233232a-937b-4e24-b04c-34f6d202145b",
    "deepnote_cell_type": "code"
   },
   "source": [
    "fake.pybool()"
   ],
   "outputs": [
    {
     "data": {
      "text/plain": "False"
     },
     "execution_count": 26,
     "metadata": {},
     "output_type": "execute_result"
    }
   ],
   "execution_count": null
  },
  {
   "cell_type": "code",
   "metadata": {
    "ExecuteTime": {
     "end_time": "2020-07-31T17:36:51.124218Z",
     "start_time": "2020-07-31T17:36:51.120707Z"
    },
    "cell_id": "00034-577beadc-68cb-4580-923c-9bdcbc81c9d4",
    "deepnote_cell_type": "code"
   },
   "source": [
    "# A list of 5 elements with different data_type\n",
    "fake.pylist(nb_elements=5, variable_nb_elements=True)"
   ],
   "outputs": [
    {
     "data": {
      "text/plain": "[Decimal('-332.81652793'),\n 4218,\n 'BYpVlHqAGSYLZwUkpkiR',\n Decimal('240366.4'),\n Decimal('-4.2167344443'),\n 6614]"
     },
     "execution_count": 28,
     "metadata": {},
     "output_type": "execute_result"
    }
   ],
   "execution_count": null
  },
  {
   "cell_type": "code",
   "metadata": {
    "ExecuteTime": {
     "end_time": "2020-07-31T17:37:08.790088Z",
     "start_time": "2020-07-31T17:37:08.785917Z"
    },
    "cell_id": "00035-6f225018-f3fa-4f21-aa46-a7c8c3a10fc6",
    "deepnote_cell_type": "code"
   },
   "source": [
    "# A decimal with 5 left digits and 6 right digits (after the .)\n",
    "fake.pydecimal(left_digits=5, right_digits=6, positive=False, min_value=None, max_value=None)"
   ],
   "outputs": [
    {
     "data": {
      "text/plain": "Decimal('49261.193499')"
     },
     "execution_count": 29,
     "metadata": {},
     "output_type": "execute_result"
    }
   ],
   "execution_count": null
  },
  {
   "cell_type": "code",
   "metadata": {
    "cell_id": "00036-0ff75c3e-9cc8-4b79-b7d9-d4013368502b",
    "deepnote_cell_type": "code"
   },
   "source": [],
   "outputs": [],
   "execution_count": null
  },
  {
   "cell_type": "markdown",
   "source": [
    "<a style='text-decoration:none;line-height:16px;display:flex;color:#5B5B62;padding:10px;justify-content:end;' href='https://deepnote.com?utm_source=created-in-deepnote-cell&projectId=87197226-98be-42b2-8527-389082831299' target=\"_blank\">\n",
    "<img alt='Created in deepnote.com' style='display:inline;max-height:16px;margin:0px;margin-right:7.5px;' src='data:image/svg+xml;base64,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' > </img>\n",
    "Created in <span style='font-weight:600;margin-left:4px;'>Deepnote</span></a>"
   ],
   "metadata": {
    "tags": [],
    "created_in_deepnote_cell": true,
    "deepnote_cell_type": "markdown"
   }
  }
 ],
 "nbformat": 4,
 "nbformat_minor": 4,
 "metadata": {
  "kernelspec": {
   "display_name": "scraping",
   "language": "python",
   "name": "scraping"
  },
  "language_info": {
   "codemirror_mode": {
    "name": "ipython",
    "version": 3
   },
   "file_extension": ".py",
   "mimetype": "text/x-python",
   "name": "python",
   "nbconvert_exporter": "python",
   "pygments_lexer": "ipython3",
   "version": "3.8.3"
  },
  "latex_envs": {
   "LaTeX_envs_menu_present": true,
   "autoclose": false,
   "autocomplete": true,
   "bibliofile": "biblio.bib",
   "cite_by": "apalike",
   "current_citInitial": 1,
   "eqLabelWithNumbers": true,
   "eqNumInitial": 1,
   "hotkeys": {
    "equation": "Ctrl-E",
    "itemize": "Ctrl-I"
   },
   "labels_anchors": false,
   "latex_user_defs": false,
   "report_style_numbering": false,
   "user_envs_cfg": false
  },
  "toc": {
   "base_numbering": 1,
   "nav_menu": {},
   "number_sections": true,
   "sideBar": true,
   "skip_h1_title": false,
   "title_cell": "Table of Contents",
   "title_sidebar": "Contents",
   "toc_cell": false,
   "toc_position": {},
   "toc_section_display": true,
   "toc_window_display": false
  },
  "deepnote_notebook_id": "7832f4c5-f5a8-413e-84a9-943b85605a5a",
  "deepnote": {},
  "deepnote_execution_queue": []
 }
}
